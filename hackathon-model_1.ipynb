{
 "cells": [
  {
   "cell_type": "code",
   "execution_count": 1,
   "metadata": {},
   "outputs": [],
   "source": [
    "import pandas as pd\n",
    "import numpy as np\n",
    "import matplotlib.pyplot as plt\n",
    "\n",
    "from sklearn.preprocessing import LabelEncoder\n",
    "from sklearn.preprocessing import OneHotEncoder\n",
    "from sklearn.compose import ColumnTransformer\n",
    "\n",
    "from sklearn.model_selection import train_test_split,cross_val_score\n",
    "from sklearn.metrics import fbeta_score, f1_score,precision_score,recall_score,accuracy_score, roc_curve, auc\n",
    "from sklearn.linear_model import LogisticRegression, LinearRegression\n",
    "\n",
    "from collections import Counter\n",
    "\n",
    "from sklearn.metrics import confusion_matrix, roc_curve,roc_auc_score,classification_report\n",
    "\n",
    "import seaborn as sns\n",
    "\n",
    "import pickle\n",
    "import xgboost as xgb\n",
    "from xgboost import XGBClassifier\n",
    "pd.set_option('display.max_columns', None)\n",
    "pd.set_option('display.max_rows', None)\n",
    "from scipy import stats"
   ]
  },
  {
   "cell_type": "code",
   "execution_count": 2,
   "metadata": {},
   "outputs": [],
   "source": [
    "col_names = [\"status\", \"duration\", \"credit_history\", \"purpose\", \"credit_amount\",\n",
    "            \"savings_account\", \"employed_since\", \"installment_rate\", \"maritial_status_sex\",\n",
    "            \"other_debtors\", \"resident_since\", \"property\", \"age\", \"other_installments\",\n",
    "            \"housing\", \"existing_credits\", \"job\", \"no_of_dependents\", \"telephone\", \"foreign_worker\", \"credit\"]"
   ]
  },
  {
   "cell_type": "code",
   "execution_count": 3,
   "metadata": {},
   "outputs": [],
   "source": [
    "df = pd.read_csv(\"data/german.data\", sep=\" \", header=None, names=col_names)"
   ]
  },
  {
   "cell_type": "code",
   "execution_count": 4,
<<<<<<< HEAD
   "metadata": {},
   "outputs": [
    {
     "data": {
      "text/html": [
       "<div>\n",
       "<style scoped>\n",
       "    .dataframe tbody tr th:only-of-type {\n",
       "        vertical-align: middle;\n",
       "    }\n",
       "\n",
       "    .dataframe tbody tr th {\n",
       "        vertical-align: top;\n",
       "    }\n",
       "\n",
       "    .dataframe thead th {\n",
       "        text-align: right;\n",
       "    }\n",
       "</style>\n",
       "<table border=\"1\" class=\"dataframe\">\n",
       "  <thead>\n",
       "    <tr style=\"text-align: right;\">\n",
       "      <th></th>\n",
       "      <th>status</th>\n",
       "      <th>duration</th>\n",
       "      <th>credit_history</th>\n",
       "      <th>purpose</th>\n",
       "      <th>credit_amount</th>\n",
       "      <th>savings_account</th>\n",
       "      <th>employed_since</th>\n",
       "      <th>installment_rate</th>\n",
       "      <th>maritial_status_sex</th>\n",
       "      <th>other_debtors</th>\n",
       "      <th>...</th>\n",
       "      <th>property</th>\n",
       "      <th>age</th>\n",
       "      <th>other_installments</th>\n",
       "      <th>housing</th>\n",
       "      <th>existing_credits</th>\n",
       "      <th>job</th>\n",
       "      <th>no_of_dependents</th>\n",
       "      <th>telephone</th>\n",
       "      <th>foreign_worker</th>\n",
       "      <th>credit</th>\n",
       "    </tr>\n",
       "  </thead>\n",
       "  <tbody>\n",
       "    <tr>\n",
       "      <th>0</th>\n",
       "      <td>A11</td>\n",
       "      <td>6</td>\n",
       "      <td>A34</td>\n",
       "      <td>A43</td>\n",
       "      <td>1169</td>\n",
       "      <td>A65</td>\n",
       "      <td>A75</td>\n",
       "      <td>4</td>\n",
       "      <td>A93</td>\n",
       "      <td>A101</td>\n",
       "      <td>...</td>\n",
       "      <td>A121</td>\n",
       "      <td>67</td>\n",
       "      <td>A143</td>\n",
       "      <td>A152</td>\n",
       "      <td>2</td>\n",
       "      <td>A173</td>\n",
       "      <td>1</td>\n",
       "      <td>A192</td>\n",
       "      <td>A201</td>\n",
       "      <td>1</td>\n",
       "    </tr>\n",
       "    <tr>\n",
       "      <th>1</th>\n",
       "      <td>A12</td>\n",
       "      <td>48</td>\n",
       "      <td>A32</td>\n",
       "      <td>A43</td>\n",
       "      <td>5951</td>\n",
       "      <td>A61</td>\n",
       "      <td>A73</td>\n",
       "      <td>2</td>\n",
       "      <td>A92</td>\n",
       "      <td>A101</td>\n",
       "      <td>...</td>\n",
       "      <td>A121</td>\n",
       "      <td>22</td>\n",
       "      <td>A143</td>\n",
       "      <td>A152</td>\n",
       "      <td>1</td>\n",
       "      <td>A173</td>\n",
       "      <td>1</td>\n",
       "      <td>A191</td>\n",
       "      <td>A201</td>\n",
       "      <td>2</td>\n",
       "    </tr>\n",
       "    <tr>\n",
       "      <th>2</th>\n",
       "      <td>A14</td>\n",
       "      <td>12</td>\n",
       "      <td>A34</td>\n",
       "      <td>A46</td>\n",
       "      <td>2096</td>\n",
       "      <td>A61</td>\n",
       "      <td>A74</td>\n",
       "      <td>2</td>\n",
       "      <td>A93</td>\n",
       "      <td>A101</td>\n",
       "      <td>...</td>\n",
       "      <td>A121</td>\n",
       "      <td>49</td>\n",
       "      <td>A143</td>\n",
       "      <td>A152</td>\n",
       "      <td>1</td>\n",
       "      <td>A172</td>\n",
       "      <td>2</td>\n",
       "      <td>A191</td>\n",
       "      <td>A201</td>\n",
       "      <td>1</td>\n",
       "    </tr>\n",
       "    <tr>\n",
       "      <th>3</th>\n",
       "      <td>A11</td>\n",
       "      <td>42</td>\n",
       "      <td>A32</td>\n",
       "      <td>A42</td>\n",
       "      <td>7882</td>\n",
       "      <td>A61</td>\n",
       "      <td>A74</td>\n",
       "      <td>2</td>\n",
       "      <td>A93</td>\n",
       "      <td>A103</td>\n",
       "      <td>...</td>\n",
       "      <td>A122</td>\n",
       "      <td>45</td>\n",
       "      <td>A143</td>\n",
       "      <td>A153</td>\n",
       "      <td>1</td>\n",
       "      <td>A173</td>\n",
       "      <td>2</td>\n",
       "      <td>A191</td>\n",
       "      <td>A201</td>\n",
       "      <td>1</td>\n",
       "    </tr>\n",
       "    <tr>\n",
       "      <th>4</th>\n",
       "      <td>A11</td>\n",
       "      <td>24</td>\n",
       "      <td>A33</td>\n",
       "      <td>A40</td>\n",
       "      <td>4870</td>\n",
       "      <td>A61</td>\n",
       "      <td>A73</td>\n",
       "      <td>3</td>\n",
       "      <td>A93</td>\n",
       "      <td>A101</td>\n",
       "      <td>...</td>\n",
       "      <td>A124</td>\n",
       "      <td>53</td>\n",
       "      <td>A143</td>\n",
       "      <td>A153</td>\n",
       "      <td>2</td>\n",
       "      <td>A173</td>\n",
       "      <td>2</td>\n",
       "      <td>A191</td>\n",
       "      <td>A201</td>\n",
       "      <td>2</td>\n",
       "    </tr>\n",
       "    <tr>\n",
       "      <th>...</th>\n",
       "      <td>...</td>\n",
       "      <td>...</td>\n",
       "      <td>...</td>\n",
       "      <td>...</td>\n",
       "      <td>...</td>\n",
       "      <td>...</td>\n",
       "      <td>...</td>\n",
       "      <td>...</td>\n",
       "      <td>...</td>\n",
       "      <td>...</td>\n",
       "      <td>...</td>\n",
       "      <td>...</td>\n",
       "      <td>...</td>\n",
       "      <td>...</td>\n",
       "      <td>...</td>\n",
       "      <td>...</td>\n",
       "      <td>...</td>\n",
       "      <td>...</td>\n",
       "      <td>...</td>\n",
       "      <td>...</td>\n",
       "      <td>...</td>\n",
       "    </tr>\n",
       "    <tr>\n",
       "      <th>995</th>\n",
       "      <td>A14</td>\n",
       "      <td>12</td>\n",
       "      <td>A32</td>\n",
       "      <td>A42</td>\n",
       "      <td>1736</td>\n",
       "      <td>A61</td>\n",
       "      <td>A74</td>\n",
       "      <td>3</td>\n",
       "      <td>A92</td>\n",
       "      <td>A101</td>\n",
       "      <td>...</td>\n",
       "      <td>A121</td>\n",
       "      <td>31</td>\n",
       "      <td>A143</td>\n",
       "      <td>A152</td>\n",
       "      <td>1</td>\n",
       "      <td>A172</td>\n",
       "      <td>1</td>\n",
       "      <td>A191</td>\n",
       "      <td>A201</td>\n",
       "      <td>1</td>\n",
       "    </tr>\n",
       "    <tr>\n",
       "      <th>996</th>\n",
       "      <td>A11</td>\n",
       "      <td>30</td>\n",
       "      <td>A32</td>\n",
       "      <td>A41</td>\n",
       "      <td>3857</td>\n",
       "      <td>A61</td>\n",
       "      <td>A73</td>\n",
       "      <td>4</td>\n",
       "      <td>A91</td>\n",
       "      <td>A101</td>\n",
       "      <td>...</td>\n",
       "      <td>A122</td>\n",
       "      <td>40</td>\n",
       "      <td>A143</td>\n",
       "      <td>A152</td>\n",
       "      <td>1</td>\n",
       "      <td>A174</td>\n",
       "      <td>1</td>\n",
       "      <td>A192</td>\n",
       "      <td>A201</td>\n",
       "      <td>1</td>\n",
       "    </tr>\n",
       "    <tr>\n",
       "      <th>997</th>\n",
       "      <td>A14</td>\n",
       "      <td>12</td>\n",
       "      <td>A32</td>\n",
       "      <td>A43</td>\n",
       "      <td>804</td>\n",
       "      <td>A61</td>\n",
       "      <td>A75</td>\n",
       "      <td>4</td>\n",
       "      <td>A93</td>\n",
       "      <td>A101</td>\n",
       "      <td>...</td>\n",
       "      <td>A123</td>\n",
       "      <td>38</td>\n",
       "      <td>A143</td>\n",
       "      <td>A152</td>\n",
       "      <td>1</td>\n",
       "      <td>A173</td>\n",
       "      <td>1</td>\n",
       "      <td>A191</td>\n",
       "      <td>A201</td>\n",
       "      <td>1</td>\n",
       "    </tr>\n",
       "    <tr>\n",
       "      <th>998</th>\n",
       "      <td>A11</td>\n",
       "      <td>45</td>\n",
       "      <td>A32</td>\n",
       "      <td>A43</td>\n",
       "      <td>1845</td>\n",
       "      <td>A61</td>\n",
       "      <td>A73</td>\n",
       "      <td>4</td>\n",
       "      <td>A93</td>\n",
       "      <td>A101</td>\n",
       "      <td>...</td>\n",
       "      <td>A124</td>\n",
       "      <td>23</td>\n",
       "      <td>A143</td>\n",
       "      <td>A153</td>\n",
       "      <td>1</td>\n",
       "      <td>A173</td>\n",
       "      <td>1</td>\n",
       "      <td>A192</td>\n",
       "      <td>A201</td>\n",
       "      <td>2</td>\n",
       "    </tr>\n",
       "    <tr>\n",
       "      <th>999</th>\n",
       "      <td>A12</td>\n",
       "      <td>45</td>\n",
       "      <td>A34</td>\n",
       "      <td>A41</td>\n",
       "      <td>4576</td>\n",
       "      <td>A62</td>\n",
       "      <td>A71</td>\n",
       "      <td>3</td>\n",
       "      <td>A93</td>\n",
       "      <td>A101</td>\n",
       "      <td>...</td>\n",
       "      <td>A123</td>\n",
       "      <td>27</td>\n",
       "      <td>A143</td>\n",
       "      <td>A152</td>\n",
       "      <td>1</td>\n",
       "      <td>A173</td>\n",
       "      <td>1</td>\n",
       "      <td>A191</td>\n",
       "      <td>A201</td>\n",
       "      <td>1</td>\n",
       "    </tr>\n",
       "  </tbody>\n",
       "</table>\n",
       "<p>1000 rows × 21 columns</p>\n",
       "</div>"
      ],
      "text/plain": [
       "    status  duration credit_history purpose  credit_amount savings_account  \\\n",
       "0      A11         6            A34     A43           1169             A65   \n",
       "1      A12        48            A32     A43           5951             A61   \n",
       "2      A14        12            A34     A46           2096             A61   \n",
       "3      A11        42            A32     A42           7882             A61   \n",
       "4      A11        24            A33     A40           4870             A61   \n",
       "..     ...       ...            ...     ...            ...             ...   \n",
       "995    A14        12            A32     A42           1736             A61   \n",
       "996    A11        30            A32     A41           3857             A61   \n",
       "997    A14        12            A32     A43            804             A61   \n",
       "998    A11        45            A32     A43           1845             A61   \n",
       "999    A12        45            A34     A41           4576             A62   \n",
       "\n",
       "    employed_since  installment_rate maritial_status_sex other_debtors  ...  \\\n",
       "0              A75                 4                 A93          A101  ...   \n",
       "1              A73                 2                 A92          A101  ...   \n",
       "2              A74                 2                 A93          A101  ...   \n",
       "3              A74                 2                 A93          A103  ...   \n",
       "4              A73                 3                 A93          A101  ...   \n",
       "..             ...               ...                 ...           ...  ...   \n",
       "995            A74                 3                 A92          A101  ...   \n",
       "996            A73                 4                 A91          A101  ...   \n",
       "997            A75                 4                 A93          A101  ...   \n",
       "998            A73                 4                 A93          A101  ...   \n",
       "999            A71                 3                 A93          A101  ...   \n",
       "\n",
       "     property age  other_installments housing existing_credits   job  \\\n",
       "0        A121  67                A143    A152                2  A173   \n",
       "1        A121  22                A143    A152                1  A173   \n",
       "2        A121  49                A143    A152                1  A172   \n",
       "3        A122  45                A143    A153                1  A173   \n",
       "4        A124  53                A143    A153                2  A173   \n",
       "..        ...  ..                 ...     ...              ...   ...   \n",
       "995      A121  31                A143    A152                1  A172   \n",
       "996      A122  40                A143    A152                1  A174   \n",
       "997      A123  38                A143    A152                1  A173   \n",
       "998      A124  23                A143    A153                1  A173   \n",
       "999      A123  27                A143    A152                1  A173   \n",
       "\n",
       "    no_of_dependents  telephone foreign_worker credit  \n",
       "0                  1       A192           A201      1  \n",
       "1                  1       A191           A201      2  \n",
       "2                  2       A191           A201      1  \n",
       "3                  2       A191           A201      1  \n",
       "4                  2       A191           A201      2  \n",
       "..               ...        ...            ...    ...  \n",
       "995                1       A191           A201      1  \n",
       "996                1       A192           A201      1  \n",
       "997                1       A191           A201      1  \n",
       "998                1       A192           A201      2  \n",
       "999                1       A191           A201      1  \n",
       "\n",
       "[1000 rows x 21 columns]"
      ]
     },
     "execution_count": 4,
     "metadata": {},
     "output_type": "execute_result"
    }
   ],
   "source": [
    "df"
   ]
  },
  {
   "cell_type": "code",
   "execution_count": 5,
=======
>>>>>>> b8036030604eea5999683b051ff37ca9aa2a101f
   "metadata": {},
   "outputs": [
    {
     "name": "stdout",
     "output_type": "stream",
     "text": [
      "<class 'pandas.core.frame.DataFrame'>\n",
      "RangeIndex: 1000 entries, 0 to 999\n",
      "Data columns (total 21 columns):\n",
      " #   Column               Non-Null Count  Dtype \n",
      "---  ------               --------------  ----- \n",
      " 0   status               1000 non-null   object\n",
      " 1   duration             1000 non-null   int64 \n",
      " 2   credit_history       1000 non-null   object\n",
      " 3   purpose              1000 non-null   object\n",
      " 4   credit_amount        1000 non-null   int64 \n",
      " 5   savings_account      1000 non-null   object\n",
      " 6   employed_since       1000 non-null   object\n",
      " 7   installment_rate     1000 non-null   int64 \n",
      " 8   maritial_status_sex  1000 non-null   object\n",
      " 9   other_debtors        1000 non-null   object\n",
      " 10  resident_since       1000 non-null   int64 \n",
      " 11  property             1000 non-null   object\n",
      " 12  age                  1000 non-null   int64 \n",
      " 13  other_installments   1000 non-null   object\n",
      " 14  housing              1000 non-null   object\n",
      " 15  existing_credits     1000 non-null   int64 \n",
      " 16  job                  1000 non-null   object\n",
      " 17  no_of_dependents     1000 non-null   int64 \n",
      " 18  telephone            1000 non-null   object\n",
      " 19  foreign_worker       1000 non-null   object\n",
      " 20  credit               1000 non-null   int64 \n",
      "dtypes: int64(8), object(13)\n",
      "memory usage: 164.2+ KB\n"
     ]
    }
   ],
   "source": [
    "df.info()"
   ]
  },
  {
   "cell_type": "code",
   "execution_count": 29,
   "metadata": {},
   "outputs": [
    {
     "data": {
      "text/plain": [
       "7"
      ]
     },
     "metadata": {},
     "output_type": "display_data"
    },
    {
     "data": {
      "text/plain": [
       "13"
      ]
     },
     "metadata": {},
     "output_type": "display_data"
    },
    {
     "data": {
      "text/plain": [
       "1"
      ]
     },
     "metadata": {},
     "output_type": "display_data"
    }
   ],
   "source": [
    "#Numerical Categorical and Target variable\n",
    "targetcols=['credit']\n",
    "def cols():\n",
    "    keycols=[]\n",
    "    targetcols=['credit']\n",
    "    numcols=[col for col in df.columns if (df[col].dtype in ['float64','int64','uint8'])\\\n",
    "            & (col not in targetcols)]\n",
    "    catcols=[col for col in df.columns if (df[col].dtype not in ['float64','int64','uint8'])\\\n",
    "             & (col not in targetcols)]\n",
    "    display(len(numcols))\n",
    "    display(len(catcols))\n",
    "    display(len(targetcols))\n",
    "    return numcols ,catcols, targetcols\n",
    "numcols ,catcols, targetcols=cols()"
   ]
  },
  {
   "cell_type": "code",
   "execution_count": 30,
   "metadata": {},
   "outputs": [
    {
     "data": {
      "text/plain": [
       "duration              12.058814\n",
       "credit_amount       2822.736876\n",
       "installment_rate       1.118715\n",
       "resident_since         1.103718\n",
       "age                   11.375469\n",
       "existing_credits       0.577654\n",
       "no_of_dependents       0.362086\n",
       "credit                 0.458487\n",
       "dtype: float64"
      ]
     },
     "execution_count": 6,
     "metadata": {},
     "output_type": "execute_result"
    }
   ],
   "source": [
    "#Highly Skewed variable >0.5 or 1\n",
    "df.std()\n",
    "#Analysis :- duration , age and credit_amount treatment to be done"
   ]
  },
  {
   "cell_type": "code",
   "execution_count": 7,
   "metadata": {},
   "outputs": [
    {
     "name": "stdout",
     "output_type": "stream",
     "text": [
      "2606.75 1365.5 2319.5 3972.25\n"
     ]
    }
   ],
   "source": [
    "#Outlier Detection Method\n",
    "Q1 = df[\"credit_amount\"].quantile(0.25)\n",
    "Q3 = df[\"credit_amount\"].quantile(0.75)\n",
    "median = df[\"credit_amount\"].median()\n",
    "IQR = Q3 - Q1\n",
    "print(IQR,Q1,median,Q3)\n",
    "#df['credit_amount_zscre']=abs(stats.zscore(df['credit_amount']))\n",
    "#df['age_zscre']=abs(stats.zscore(df['age']))\n",
    "#df['duration_zscre']=abs(stats.zscore(df['duration']))\n",
    "#df=df[(df['credit_amount_zscre']<3) & (df['duration_zscre']<3) & (df['age_zscre']<3)].copy()\n",
    "#df=df.drop(['duration_zscre','age_zscre','credit_amount_zscre'],axis=1)\n",
    "#df.shape\n",
    "\n",
<<<<<<< HEAD
    "# one hot encode categorical features only\n",
    "ct = ColumnTransformer([('o', OneHotEncoder(), categorical_cols)], remainder='passthrough')\n",
    "X = ct.fit_transform(X)\n",
    "# label encode the target variable to have the classes 0 and 1\n",
    "l = LabelEncoder()\n",
    "y = l.fit_transform(y)\n",
=======
    "#Analysis :- Outlier Removal Technqiue Not aiding the model\n",
    "\n"
   ]
  },
  {
   "cell_type": "code",
   "execution_count": 8,
   "metadata": {},
   "outputs": [],
   "source": [
    "#Highly Skewed Variable Treatment \n",
    "#df['age_new']=np.log1p(df['age'])\n",
    "#df['duration_new']=np.log1p(df['duration'])\n",
    "#df['credit_amount_new']=np.log1p(df['credit_amount'])\n",
>>>>>>> b8036030604eea5999683b051ff37ca9aa2a101f
    "\n",
    "#Binnning Credit Amount\n",
    "#df['credit_amount_new']=pd.qcut(df['credit_amount'], q=4, labels=[0,1,2,3])\n",
    "\n",
    "#Analysis: - Not Aiding the model"
   ]
  },
  {
   "cell_type": "code",
<<<<<<< HEAD
   "execution_count": 26,
   "metadata": {},
   "outputs": [
    {
     "name": "stdout",
     "output_type": "stream",
     "text": [
      "(1001,)\n"
     ]
    }
   ],
   "source": [
    "# x1 = [0, 1, 0, 0, 0, 1, 0, 0, 0, 0, 1, 0, 0, 0, 0, 0, 0, 0, 0, 0, 1, 0, 0, 0, 0, 0, 1, 0, 0, 0, 1, 0, 0, 0, 1, 0, 0, 1, 0, 0, 0, 1, 0, 1, 0, 0, 1, 0, 0, 0, 0, 1, 1, 0, 13, 1000, 4, 2, 24, 4, 2]\n",
    "# X = np.append(X, [x1], axis=0)\n",
    "\n",
    "# print(X.shape)\n",
    "# print(X[-1])\n",
    "\n",
    "y1 = 0\n",
    "\n",
    "y = np.append(y, y1)\n",
    "\n",
    "print(y.shape)\n"
   ]
  },
  {
   "cell_type": "code",
   "execution_count": 20,
=======
   "execution_count": 9,
>>>>>>> b8036030604eea5999683b051ff37ca9aa2a101f
   "metadata": {},
   "outputs": [
    {
     "data": {
      "text/plain": [
       "7"
      ]
     },
     "metadata": {},
     "output_type": "display_data"
    },
    {
     "data": {
      "text/plain": [
       "13"
      ]
     },
     "metadata": {},
     "output_type": "display_data"
    },
    {
     "data": {
      "text/plain": [
       "1"
      ]
     },
     "metadata": {},
     "output_type": "display_data"
    }
   ],
   "source": [
    "#Check the variable types\n",
    "numcols ,catcols, targetcols=cols()\n",
    "\n",
    "#Target Variable Encoding\n",
    "df['credit'].replace({1:0,2:1},inplace=True)"
   ]
  },
  {
   "cell_type": "code",
<<<<<<< HEAD
   "execution_count": 31,
=======
   "execution_count": 10,
   "metadata": {},
   "outputs": [],
   "source": [
    "#Out of categorical ,below are ordinal variable\n",
    "#Ordinal variable Encoding\n",
    "df['employed_since'].replace({'A71':0,'A72':1,'A73':2,'A74':3,'A75':4},inplace=True)\n",
    "df['savings_account'].replace({'A65':0,'A61':1,'A62':2,'A63':3,'A64':4},inplace=True)"
   ]
  },
  {
   "cell_type": "code",
   "execution_count": 11,
>>>>>>> b8036030604eea5999683b051ff37ca9aa2a101f
   "metadata": {},
   "outputs": [
    {
     "data": {
      "text/plain": [
       "9"
      ]
     },
     "metadata": {},
     "output_type": "display_data"
    },
    {
     "data": {
      "text/plain": [
       "11"
      ]
     },
     "metadata": {},
     "output_type": "display_data"
    },
    {
     "data": {
      "text/plain": [
       "1"
      ]
     },
     "metadata": {},
     "output_type": "display_data"
    },
    {
     "data": {
      "text/plain": [
       "(1000, 54)"
      ]
     },
     "execution_count": 11,
     "metadata": {},
     "output_type": "execute_result"
    }
   ],
   "source": [
    "#Creating Dummies for remaining Categorical Columns\n",
    "\n",
    "numcols ,catcols, targetcols=cols()\n",
    "catcoldumy=pd.get_dummies(df[catcols])\n",
    "df=df.drop(catcols,axis=1)\n",
    "df = df.merge(catcoldumy, left_index=True, right_index=True)\n",
    "df.shape"
   ]
  },
  {
   "cell_type": "code",
<<<<<<< HEAD
   "execution_count": 32,
=======
   "execution_count": 12,
>>>>>>> b8036030604eea5999683b051ff37ca9aa2a101f
   "metadata": {},
   "outputs": [],
   "source": [
    "#Correlation Matrix\n",
    "corr_m=df.corr()   \n",
    "corr_m['abs_credit']=corr_m['credit'].abs()"
   ]
  },
  {
   "cell_type": "code",
   "execution_count": 13,
   "metadata": {
    "scrolled": true
   },
   "outputs": [
    {
     "data": {
      "text/html": [
       "<div>\n",
       "<style scoped>\n",
       "    .dataframe tbody tr th:only-of-type {\n",
       "        vertical-align: middle;\n",
       "    }\n",
       "\n",
       "    .dataframe tbody tr th {\n",
       "        vertical-align: top;\n",
       "    }\n",
       "\n",
       "    .dataframe thead th {\n",
       "        text-align: right;\n",
       "    }\n",
       "</style>\n",
       "<table border=\"1\" class=\"dataframe\">\n",
       "  <thead>\n",
       "    <tr style=\"text-align: right;\">\n",
       "      <th></th>\n",
       "      <th>abs_credit</th>\n",
       "      <th>credit</th>\n",
       "    </tr>\n",
       "  </thead>\n",
       "  <tbody>\n",
       "    <tr>\n",
       "      <th>credit</th>\n",
       "      <td>1.000000</td>\n",
       "      <td>1.000000</td>\n",
       "    </tr>\n",
       "    <tr>\n",
       "      <th>status_A14</th>\n",
       "      <td>0.322436</td>\n",
       "      <td>-0.322436</td>\n",
       "    </tr>\n",
       "    <tr>\n",
       "      <th>status_A11</th>\n",
       "      <td>0.258333</td>\n",
       "      <td>0.258333</td>\n",
       "    </tr>\n",
       "    <tr>\n",
       "      <th>duration</th>\n",
       "      <td>0.214927</td>\n",
       "      <td>0.214927</td>\n",
       "    </tr>\n",
       "    <tr>\n",
       "      <th>credit_history_A34</th>\n",
       "      <td>0.181713</td>\n",
       "      <td>-0.181713</td>\n",
       "    </tr>\n",
       "    <tr>\n",
       "      <th>credit_amount</th>\n",
       "      <td>0.154739</td>\n",
       "      <td>0.154739</td>\n",
       "    </tr>\n",
       "    <tr>\n",
       "      <th>credit_history_A30</th>\n",
       "      <td>0.144767</td>\n",
       "      <td>0.144767</td>\n",
       "    </tr>\n",
       "    <tr>\n",
       "      <th>housing_A152</th>\n",
       "      <td>0.134589</td>\n",
       "      <td>-0.134589</td>\n",
       "    </tr>\n",
       "    <tr>\n",
       "      <th>credit_history_A31</th>\n",
       "      <td>0.134448</td>\n",
       "      <td>0.134448</td>\n",
       "    </tr>\n",
       "    <tr>\n",
       "      <th>property_A124</th>\n",
       "      <td>0.125750</td>\n",
       "      <td>0.125750</td>\n",
       "    </tr>\n",
       "    <tr>\n",
       "      <th>status_A12</th>\n",
       "      <td>0.119581</td>\n",
       "      <td>0.119581</td>\n",
       "    </tr>\n",
       "    <tr>\n",
       "      <th>property_A121</th>\n",
       "      <td>0.119300</td>\n",
       "      <td>-0.119300</td>\n",
       "    </tr>\n",
       "    <tr>\n",
       "      <th>employed_since</th>\n",
       "      <td>0.116002</td>\n",
       "      <td>-0.116002</td>\n",
       "    </tr>\n",
       "    <tr>\n",
       "      <th>other_installments_A143</th>\n",
       "      <td>0.113285</td>\n",
       "      <td>-0.113285</td>\n",
       "    </tr>\n",
       "    <tr>\n",
       "      <th>purpose_A43</th>\n",
       "      <td>0.106922</td>\n",
       "      <td>-0.106922</td>\n",
       "    </tr>\n",
       "    <tr>\n",
       "      <th>purpose_A41</th>\n",
       "      <td>0.099791</td>\n",
       "      <td>-0.099791</td>\n",
       "    </tr>\n",
       "    <tr>\n",
       "      <th>purpose_A40</th>\n",
       "      <td>0.096900</td>\n",
       "      <td>0.096900</td>\n",
       "    </tr>\n",
       "    <tr>\n",
       "      <th>other_installments_A141</th>\n",
       "      <td>0.096510</td>\n",
       "      <td>0.096510</td>\n",
       "    </tr>\n",
       "    <tr>\n",
       "      <th>housing_A151</th>\n",
       "      <td>0.092785</td>\n",
       "      <td>0.092785</td>\n",
       "    </tr>\n",
       "    <tr>\n",
       "      <th>age</th>\n",
       "      <td>0.091127</td>\n",
       "      <td>-0.091127</td>\n",
       "    </tr>\n",
       "    <tr>\n",
       "      <th>foreign_worker_A202</th>\n",
       "      <td>0.082079</td>\n",
       "      <td>-0.082079</td>\n",
       "    </tr>\n",
       "    <tr>\n",
       "      <th>foreign_worker_A201</th>\n",
       "      <td>0.082079</td>\n",
       "      <td>0.082079</td>\n",
       "    </tr>\n",
       "    <tr>\n",
       "      <th>housing_A153</th>\n",
       "      <td>0.081556</td>\n",
       "      <td>0.081556</td>\n",
       "    </tr>\n",
       "    <tr>\n",
       "      <th>maritial_status_sex_A93</th>\n",
       "      <td>0.080677</td>\n",
       "      <td>-0.080677</td>\n",
       "    </tr>\n",
       "    <tr>\n",
       "      <th>maritial_status_sex_A92</th>\n",
       "      <td>0.075493</td>\n",
       "      <td>0.075493</td>\n",
       "    </tr>\n",
       "    <tr>\n",
       "      <th>installment_rate</th>\n",
       "      <td>0.072404</td>\n",
       "      <td>0.072404</td>\n",
       "    </tr>\n",
       "    <tr>\n",
       "      <th>purpose_A46</th>\n",
       "      <td>0.070088</td>\n",
       "      <td>0.070088</td>\n",
       "    </tr>\n",
       "    <tr>\n",
       "      <th>other_debtors_A102</th>\n",
       "      <td>0.062728</td>\n",
       "      <td>0.062728</td>\n",
       "    </tr>\n",
       "    <tr>\n",
       "      <th>other_debtors_A103</th>\n",
       "      <td>0.055039</td>\n",
       "      <td>-0.055039</td>\n",
       "    </tr>\n",
       "    <tr>\n",
       "      <th>other_installments_A142</th>\n",
       "      <td>0.050523</td>\n",
       "      <td>0.050523</td>\n",
       "    </tr>\n",
       "    <tr>\n",
       "      <th>maritial_status_sex_A91</th>\n",
       "      <td>0.050063</td>\n",
       "      <td>0.050063</td>\n",
       "    </tr>\n",
       "    <tr>\n",
       "      <th>existing_credits</th>\n",
       "      <td>0.045732</td>\n",
       "      <td>-0.045732</td>\n",
       "    </tr>\n",
       "    <tr>\n",
       "      <th>status_A13</th>\n",
       "      <td>0.044009</td>\n",
       "      <td>-0.044009</td>\n",
       "    </tr>\n",
       "    <tr>\n",
       "      <th>credit_history_A32</th>\n",
       "      <td>0.043722</td>\n",
       "      <td>0.043722</td>\n",
       "    </tr>\n",
       "    <tr>\n",
       "      <th>job_A174</th>\n",
       "      <td>0.040559</td>\n",
       "      <td>0.040559</td>\n",
       "    </tr>\n",
       "    <tr>\n",
       "      <th>purpose_A48</th>\n",
       "      <td>0.039281</td>\n",
       "      <td>-0.039281</td>\n",
       "    </tr>\n",
       "    <tr>\n",
       "      <th>telephone_A191</th>\n",
       "      <td>0.036466</td>\n",
       "      <td>0.036466</td>\n",
       "    </tr>\n",
       "    <tr>\n",
       "      <th>telephone_A192</th>\n",
       "      <td>0.036466</td>\n",
       "      <td>-0.036466</td>\n",
       "    </tr>\n",
       "    <tr>\n",
       "      <th>purpose_A49</th>\n",
       "      <td>0.036129</td>\n",
       "      <td>0.036129</td>\n",
       "    </tr>\n",
       "    <tr>\n",
       "      <th>savings_account</th>\n",
       "      <td>0.033871</td>\n",
       "      <td>-0.033871</td>\n",
       "    </tr>\n",
       "    <tr>\n",
       "      <th>purpose_A410</th>\n",
       "      <td>0.028058</td>\n",
       "      <td>0.028058</td>\n",
       "    </tr>\n",
       "    <tr>\n",
       "      <th>job_A172</th>\n",
       "      <td>0.021822</td>\n",
       "      <td>-0.021822</td>\n",
       "    </tr>\n",
       "    <tr>\n",
       "      <th>purpose_A42</th>\n",
       "      <td>0.020971</td>\n",
       "      <td>0.020971</td>\n",
       "    </tr>\n",
       "    <tr>\n",
       "      <th>purpose_A45</th>\n",
       "      <td>0.020828</td>\n",
       "      <td>0.020828</td>\n",
       "    </tr>\n",
       "    <tr>\n",
       "      <th>maritial_status_sex_A94</th>\n",
       "      <td>0.019630</td>\n",
       "      <td>-0.019630</td>\n",
       "    </tr>\n",
       "    <tr>\n",
       "      <th>job_A173</th>\n",
       "      <td>0.013559</td>\n",
       "      <td>-0.013559</td>\n",
       "    </tr>\n",
       "    <tr>\n",
       "      <th>credit_history_A33</th>\n",
       "      <td>0.012325</td>\n",
       "      <td>0.012325</td>\n",
       "    </tr>\n",
       "    <tr>\n",
       "      <th>property_A123</th>\n",
       "      <td>0.011121</td>\n",
       "      <td>0.011121</td>\n",
       "    </tr>\n",
       "    <tr>\n",
       "      <th>purpose_A44</th>\n",
       "      <td>0.008016</td>\n",
       "      <td>0.008016</td>\n",
       "    </tr>\n",
       "    <tr>\n",
       "      <th>property_A122</th>\n",
       "      <td>0.007238</td>\n",
       "      <td>0.007238</td>\n",
       "    </tr>\n",
       "    <tr>\n",
       "      <th>job_A171</th>\n",
       "      <td>0.005951</td>\n",
       "      <td>0.005951</td>\n",
       "    </tr>\n",
       "    <tr>\n",
       "      <th>no_of_dependents</th>\n",
       "      <td>0.003015</td>\n",
       "      <td>-0.003015</td>\n",
       "    </tr>\n",
       "    <tr>\n",
       "      <th>resident_since</th>\n",
       "      <td>0.002967</td>\n",
       "      <td>0.002967</td>\n",
       "    </tr>\n",
       "    <tr>\n",
       "      <th>other_debtors_A101</th>\n",
       "      <td>0.000751</td>\n",
       "      <td>-0.000751</td>\n",
       "    </tr>\n",
       "  </tbody>\n",
       "</table>\n",
       "</div>"
      ],
      "text/plain": [
       "                         abs_credit    credit\n",
       "credit                     1.000000  1.000000\n",
       "status_A14                 0.322436 -0.322436\n",
       "status_A11                 0.258333  0.258333\n",
       "duration                   0.214927  0.214927\n",
       "credit_history_A34         0.181713 -0.181713\n",
       "credit_amount              0.154739  0.154739\n",
       "credit_history_A30         0.144767  0.144767\n",
       "housing_A152               0.134589 -0.134589\n",
       "credit_history_A31         0.134448  0.134448\n",
       "property_A124              0.125750  0.125750\n",
       "status_A12                 0.119581  0.119581\n",
       "property_A121              0.119300 -0.119300\n",
       "employed_since             0.116002 -0.116002\n",
       "other_installments_A143    0.113285 -0.113285\n",
       "purpose_A43                0.106922 -0.106922\n",
       "purpose_A41                0.099791 -0.099791\n",
       "purpose_A40                0.096900  0.096900\n",
       "other_installments_A141    0.096510  0.096510\n",
       "housing_A151               0.092785  0.092785\n",
       "age                        0.091127 -0.091127\n",
       "foreign_worker_A202        0.082079 -0.082079\n",
       "foreign_worker_A201        0.082079  0.082079\n",
       "housing_A153               0.081556  0.081556\n",
       "maritial_status_sex_A93    0.080677 -0.080677\n",
       "maritial_status_sex_A92    0.075493  0.075493\n",
       "installment_rate           0.072404  0.072404\n",
       "purpose_A46                0.070088  0.070088\n",
       "other_debtors_A102         0.062728  0.062728\n",
       "other_debtors_A103         0.055039 -0.055039\n",
       "other_installments_A142    0.050523  0.050523\n",
       "maritial_status_sex_A91    0.050063  0.050063\n",
       "existing_credits           0.045732 -0.045732\n",
       "status_A13                 0.044009 -0.044009\n",
       "credit_history_A32         0.043722  0.043722\n",
       "job_A174                   0.040559  0.040559\n",
       "purpose_A48                0.039281 -0.039281\n",
       "telephone_A191             0.036466  0.036466\n",
       "telephone_A192             0.036466 -0.036466\n",
       "purpose_A49                0.036129  0.036129\n",
       "savings_account            0.033871 -0.033871\n",
       "purpose_A410               0.028058  0.028058\n",
       "job_A172                   0.021822 -0.021822\n",
       "purpose_A42                0.020971  0.020971\n",
       "purpose_A45                0.020828  0.020828\n",
       "maritial_status_sex_A94    0.019630 -0.019630\n",
       "job_A173                   0.013559 -0.013559\n",
       "credit_history_A33         0.012325  0.012325\n",
       "property_A123              0.011121  0.011121\n",
       "purpose_A44                0.008016  0.008016\n",
       "property_A122              0.007238  0.007238\n",
       "job_A171                   0.005951  0.005951\n",
       "no_of_dependents           0.003015 -0.003015\n",
       "resident_since             0.002967  0.002967\n",
       "other_debtors_A101         0.000751 -0.000751"
      ]
     },
     "execution_count": 13,
     "metadata": {},
     "output_type": "execute_result"
    }
   ],
   "source": [
    "#Correlation with target\n",
    "corr_m[['abs_credit','credit']].sort_values(by='abs_credit',ascending=False)"
   ]
  },
  {
   "cell_type": "code",
<<<<<<< HEAD
   "execution_count": 33,
=======
   "execution_count": 14,
>>>>>>> b8036030604eea5999683b051ff37ca9aa2a101f
   "metadata": {},
   "outputs": [],
   "source": [
    "#Taking Highly Correlated Variable with target \n",
    "corr_cols=corr_m[corr_m['abs_credit']>0.02].index.to_list()\n",
    "corr_cols.remove('credit')\n",
    "xcols=corr_cols"
   ]
  },
  {
   "cell_type": "code",
<<<<<<< HEAD
   "execution_count": 34,
=======
   "execution_count": 15,
>>>>>>> b8036030604eea5999683b051ff37ca9aa2a101f
   "metadata": {},
   "outputs": [
    {
     "name": "stdout",
     "output_type": "stream",
     "text": [
      "(1000, 43)\n",
      "(1000,)\n"
     ]
    }
   ],
   "source": [
    "#Divison of X and Y Variable\n",
    "y=df[targetcols].values\n",
    "X=df[xcols].values\n",
    "y=y.reshape(len(y),)\n",
    "print(X.shape)\n",
    "print(y.shape)"
   ]
  },
  {
   "cell_type": "code",
<<<<<<< HEAD
   "execution_count": 35,
=======
   "execution_count": 23,
   "metadata": {},
   "outputs": [],
   "source": [
    "#Splitting the data for training and testing\n",
    "X_train, X_test, y_train, y_test = train_test_split(X,y, test_size=0.2)"
   ]
  },
  {
   "cell_type": "code",
   "execution_count": 24,
   "metadata": {},
   "outputs": [],
   "source": [
    "#Oversampling\n",
    "from imblearn.over_sampling import SMOTE\n",
    "sm = SMOTE(sampling_strategy='auto')\n",
    "X_train, y_train = sm.fit_sample(X_train, y_train)\n",
    "\n",
    "#Analysis :- Overrsampling not helping"
   ]
  },
  {
   "cell_type": "code",
   "execution_count": 25,
>>>>>>> b8036030604eea5999683b051ff37ca9aa2a101f
   "metadata": {},
   "outputs": [
    {
     "data": {
      "text/plain": [
       "\"\\nfrom imblearn.combine import SMOTEENN\\nfrom imblearn.under_sampling import EditedNearestNeighbours\\nsm = SMOTEENN(enn=EditedNearestNeighbours(sampling_strategy='majority'))\\nX_train, y_train = sm.fit_sample(X_train, y_train)\\n#Analysis :- Undersampling not helping\\n\""
      ]
     },
<<<<<<< HEAD
     "execution_count": 35,
=======
     "execution_count": 25,
>>>>>>> b8036030604eea5999683b051ff37ca9aa2a101f
     "metadata": {},
     "output_type": "execute_result"
    }
   ],
   "source": [
    "#Undersampling\n",
    "'''\n",
    "from imblearn.combine import SMOTEENN\n",
    "from imblearn.under_sampling import EditedNearestNeighbours\n",
    "sm = SMOTEENN(enn=EditedNearestNeighbours(sampling_strategy='majority'))\n",
    "X_train, y_train = sm.fit_sample(X_train, y_train)\n",
    "#Analysis :- Undersampling not helping\n",
    "'''"
   ]
  },
  {
   "cell_type": "code",
<<<<<<< HEAD
   "execution_count": 36,
=======
   "execution_count": 26,
>>>>>>> b8036030604eea5999683b051ff37ca9aa2a101f
   "metadata": {},
   "outputs": [
    {
     "name": "stdout",
     "output_type": "stream",
     "text": [
<<<<<<< HEAD
      "Accuracy: 0.72\n",
      "Recall: 0.72\n",
      "Precision: 0.72\n",
      "F1-score: 0.6564838670101828\n"
=======
      "(1132, 43)\n",
      "(200, 43)\n",
      "(1132,)\n",
      "(200,)\n"
>>>>>>> b8036030604eea5999683b051ff37ca9aa2a101f
     ]
    }
   ],
   "source": [
    "print(X_train.shape)\n",
    "print(X_test.shape)\n",
    "print(y_train.shape)\n",
    "print(y_test.shape)"
   ]
  },
  {
   "cell_type": "code",
<<<<<<< HEAD
   "execution_count": 37,
=======
   "execution_count": 27,
   "metadata": {},
   "outputs": [],
   "source": [
    "# Model Evaluation Function\n",
    "from sklearn.metrics import make_scorer\n",
    "def f2_measure(clf,X_test, y_test):\n",
    "    y_pred=clf.predict(X_test)\n",
    "    print('f2 score :',fbeta_score(y_test, y_pred, beta=2))\n",
    "    \n",
    "def f2_measure2(y_true, y_pred):\n",
    "    return fbeta_score(y_true, y_pred, beta=2)\n",
    "def get_eval1(clf, X,y,k):\n",
    "    # Cross Validation to test and anticipate overfitting problem\n",
    "    scores1 = cross_val_score(clf, X, y, cv=k, scoring='accuracy')\n",
    "    scores2 = cross_val_score(clf, X, y, cv=k, scoring='precision')\n",
    "    scores3 = cross_val_score(clf, X, y, cv=k, scoring='recall')\n",
    "    scores4 = cross_val_score(clf, X, y, cv=k, scoring='f1')\n",
    "    scores5 = cross_val_score(clf, X, y, cv=k, scoring='roc_auc')\n",
    "    metric=make_scorer(f2_measure2)\n",
    "    scores6 = cross_val_score(clf, X, y, scoring=metric, cv=k, n_jobs=-1)\n",
    "    \n",
    "    \n",
    "    # The mean score and standard deviation of the score estimate\n",
    "    print(\"Cross Validation Accuracy: %0.2f (+/- %0.2f)\" % (scores1.mean(), scores1.std()))\n",
    "    print(\"Cross Validation Precision: %0.2f (+/- %0.2f)\" % (scores2.mean(), scores2.std()))\n",
    "    print(\"Cross Validation Recall: %0.2f (+/- %0.2f)\" % (scores3.mean(), scores3.std()))\n",
    "    print(\"Cross Validation f1_score: %0.2f (+/- %0.2f)\" % (scores4.mean(), scores4.std()))\n",
    "    print(\"Cross Validation roc_auc: %0.2f (+/- %0.2f)\" % (scores4.mean(), scores5.std()))\n",
    "    print(\"CV Score: %0.2f (+/- %0.2f)\" % (scores6.mean(), scores6.std()))\n",
    "def cv_validation(model,param,X,y,splits):\n",
    "    from sklearn.model_selection import KFold\n",
    "    kf = KFold(n_splits=splits)\n",
    "    \n",
    "    for train_index, test_index in kf.split(X):\n",
    "        print(\"TRAIN:\", len(train_index), \"TEST:\", len(test_index))\n",
    "        X_train, X_test = X[train_index], X[test_index]\n",
    "        y_train, y_test = y[train_index], y[test_index]\n",
    "        clf = model(**param)\n",
    "        # Train the classifier until max_iterations\n",
    "        clf.fit(X_train, y_train)\n",
    "        y_pred = clf.predict(X_test)\n",
    "        \n",
    "        get_result(clf,y_test,X_test)\n",
    "def get_result (clf,y_test,X_test):\n",
    "    y_pred = clf.predict(X_test)\n",
    "    y_pred_proba = clf.predict_proba(X_test)[:,1]\n",
    "    # Compute ROC curve and ROC area for each class\n",
    "    fpr = dict()\n",
    "    tpr = dict()\n",
    "    roc_auc = dict()\n",
    "    fpr, tpr, _ = roc_curve(y_test, y_pred_proba)\n",
    "    roc_auc = auc(fpr, tpr)\n",
    "    precision = precision_score(y_test,y_pred, average='micro')\n",
    "    recall = recall_score(y_test,y_pred, average='micro')\n",
    "    accuracy = accuracy_score(y_test,y_pred)\n",
    "    f1 = f1_score(y_test,y_pred, average='macro')\n",
    "    abclf_cm = confusion_matrix(y_test,y_pred)\n",
    "    print(abclf_cm)\n",
    "    print(f\"Accuracy: {accuracy}\")\n",
    "    print(f\"Recall: {recall}\")\n",
    "    print(f\"Precision: {precision}\")\n",
    "    print(f\"F1-score: {f1}\")\n",
    "    #Plot of a ROC curve\n",
    "    plt.figure()\n",
    "    lw = 2\n",
    "    plt.plot(fpr, tpr, color='darkorange',\n",
    "             label='ROC curve (area = %0.2f)' % roc_auc)\n",
    "    plt.plot([0, 1], [0, 1], color='navy', lw=lw, linestyle='--')\n",
    "    plt.xlim([0.0, 1.0])\n",
    "    plt.ylim([0.0, 1.0])\n",
    "    plt.xlabel('False Positive Rate')\n",
    "    plt.ylabel('True Positive Rate')\n",
    "    plt.title('Receiver operating characteristic')\n",
    "    plt.legend(loc=\"upper left\")\n",
    "    plt.show()\n",
    "    return          "
   ]
  },
  {
   "cell_type": "code",
   "execution_count": 28,
>>>>>>> b8036030604eea5999683b051ff37ca9aa2a101f
   "metadata": {},
   "outputs": [
    {
     "name": "stdout",
     "output_type": "stream",
     "text": [
      "------Logistic regression--------\n",
      "f2 score : 0.5396825396825397\n",
      "[[117  17]\n",
      " [ 32  34]]\n",
      "Accuracy: 0.755\n",
      "Recall: 0.755\n",
      "Precision: 0.755\n",
      "F1-score: 0.7040258524357464\n"
     ]
    },
    {
     "data": {
<<<<<<< HEAD
      "image/png": "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\n",
=======
      "image/png": "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\n",
>>>>>>> b8036030604eea5999683b051ff37ca9aa2a101f
      "text/plain": [
       "<Figure size 432x288 with 1 Axes>"
      ]
     },
     "metadata": {
      "needs_background": "light"
     },
     "output_type": "display_data"
    },
    {
     "name": "stdout",
     "output_type": "stream",
     "text": [
      "Cross Validation Accuracy: 0.73 (+/- 0.05)\n",
      "Cross Validation Precision: 0.54 (+/- 0.06)\n",
      "Cross Validation Recall: 0.73 (+/- 0.06)\n",
      "Cross Validation f1_score: 0.62 (+/- 0.05)\n",
      "Cross Validation roc_auc: 0.62 (+/- 0.04)\n",
      "CV Score: 0.68 (+/- 0.05)\n",
      "------RandomForestClassifier--------\n",
      "f2 score : 0.5727554179566563\n",
      "[[112  22]\n",
      " [ 29  37]]\n",
      "Accuracy: 0.745\n",
      "Recall: 0.745\n",
      "Precision: 0.745\n",
      "F1-score: 0.7032727272727273\n"
     ]
    },
    {
     "data": {
      "image/png": "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\n",
      "text/plain": [
       "<Figure size 432x288 with 1 Axes>"
      ]
     },
     "metadata": {
      "needs_background": "light"
     },
     "output_type": "display_data"
    },
    {
     "name": "stdout",
     "output_type": "stream",
     "text": [
      "Cross Validation Accuracy: 0.77 (+/- 0.03)\n",
      "Cross Validation Precision: 0.62 (+/- 0.07)\n",
      "Cross Validation Recall: 0.58 (+/- 0.07)\n",
      "Cross Validation f1_score: 0.60 (+/- 0.06)\n",
      "Cross Validation roc_auc: 0.60 (+/- 0.04)\n",
      "CV Score: 0.59 (+/- 0.06)\n"
     ]
    },
    {
     "data": {
      "text/plain": [
       "\"\\nprint('------XGBClassifier--------')\\nparams={'n_estimators':3000,'objective': 'binary:logistic','learning_rate': 0.05, 'gamma':0.1, 'subsample':0.8,           'colsample_bytree':0.3, 'min_child_weight':3, 'max_depth':3,'n_jobs' : -1 }\\nxgb = XGBClassifier(**params)\\nxgb.fit(X_train, y_train)\\nf2_measure(xgb,X_test, y_test)\\nget_result(xgb,y_test,X_test)\\nget_eval1(xgb,X,y,10)\\n\\n\""
      ]
     },
     "execution_count": 28,
     "metadata": {},
     "output_type": "execute_result"
    }
   ],
   "source": [
    "# Engineed Model Output\n",
    "# Logistic regression classifier\n",
    "print('------Logistic regression--------')\n",
    "clf = LogisticRegression(penalty='l2',C=1.0, max_iter=10000,solver='liblinear', class_weight='balanced')\n",
    "clf.fit(X_train, y_train)\n",
    "f2_measure(clf,X_test, y_test)\n",
    "get_result(clf,y_test,X_test)\n",
    "get_eval1(clf,X,y,10)\n",
    "\n",
    "print('------RandomForestClassifier--------')\n",
    "from sklearn.ensemble import RandomForestClassifier\n",
    "rfparam={'max_features':'auto','n_estimators': 400,'random_state':42,'max_depth':9,'oob_score':True,\\\n",
    "         'class_weight':'balanced', 'n_jobs':-1}\n",
    "rf = RandomForestClassifier(**rfparam)\n",
    "rf.fit(X_train, y_train)\n",
    "f2_measure(rf,X_test, y_test)\n",
    "get_result(rf,y_test,X_test)\n",
    "get_eval1(rf,X,y,10)\n",
    "\n",
    "'''\n",
    "print('------XGBClassifier--------')\n",
    "params={'n_estimators':3000,'objective': 'binary:logistic','learning_rate': 0.05, 'gamma':0.1, 'subsample':0.8,  \\\n",
    "         'colsample_bytree':0.3, 'min_child_weight':3, 'max_depth':3,'n_jobs' : -1 }\n",
    "xgb = XGBClassifier(**params)\n",
    "xgb.fit(X_train, y_train)\n",
    "f2_measure(xgb,X_test, y_test)\n",
    "get_result(xgb,y_test,X_test)\n",
    "get_eval1(xgb,X,y,10)\n",
    "\n",
    "'''\n",
    "#Analysis : XGBoost no performing well on CV , LR is peforming better than other two"
   ]
  },
  {
   "cell_type": "code",
<<<<<<< HEAD
   "execution_count": 38,
=======
   "execution_count": 29,
>>>>>>> b8036030604eea5999683b051ff37ca9aa2a101f
   "metadata": {},
   "outputs": [
    {
     "name": "stdout",
     "output_type": "stream",
     "text": [
      "TRAIN: 750 TEST: 250\n",
      "Accuracy: 0.768\n",
      "Recall: 0.768\n",
      "Precision: 0.768\n",
      "F1-score: 0.6820175438596492\n"
     ]
    },
    {
     "data": {
      "image/png": "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\n",
      "text/plain": [
       "<Figure size 432x288 with 2 Axes>"
      ]
     },
     "metadata": {},
     "output_type": "display_data"
    },
    {
     "name": "stdout",
     "output_type": "stream",
     "text": [
      "TRAIN: 750 TEST: 250\n",
      "Accuracy: 0.792\n",
      "Recall: 0.792\n",
      "Precision: 0.792\n",
      "F1-score: 0.7149122807017544\n"
     ]
    },
    {
     "data": {
      "image/png": "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\n",
      "text/plain": [
       "<Figure size 432x288 with 2 Axes>"
      ]
     },
     "metadata": {},
     "output_type": "display_data"
    },
    {
     "name": "stdout",
     "output_type": "stream",
     "text": [
      "TRAIN: 750 TEST: 250\n",
      "Accuracy: 0.696\n",
      "Recall: 0.696\n",
      "Precision: 0.696\n",
      "F1-score: 0.6352886977886978\n"
     ]
    },
    {
     "data": {
      "image/png": "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\n",
      "text/plain": [
       "<Figure size 432x288 with 2 Axes>"
      ]
     },
     "metadata": {},
     "output_type": "display_data"
    },
    {
     "name": "stdout",
     "output_type": "stream",
     "text": [
      "TRAIN: 750 TEST: 250\n",
      "Accuracy: 0.748\n",
      "Recall: 0.748\n",
      "Precision: 0.748\n",
      "F1-score: 0.6803652968036531\n"
     ]
    },
    {
     "data": {
      "image/png": "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\n",
      "text/plain": [
       "<Figure size 432x288 with 2 Axes>"
      ]
     },
     "metadata": {},
     "output_type": "display_data"
    }
   ],
   "source": [
    "from sklearn.model_selection import KFold\n",
    "kf = KFold(n_splits=4)\n",
    "\n",
    "for train_index, test_index in kf.split(X):\n",
    "    print(\"TRAIN:\", len(train_index), \"TEST:\", len(test_index))\n",
    "    X_train, X_test = X[train_index], X[test_index]\n",
    "    y_train, y_test = y[train_index], y[test_index]\n",
    "    clf = LogisticRegression(penalty='l2',C=1.0, max_iter=10000)\n",
    "    # Train the classifier until max_iterations\n",
    "    clf.fit(X_train, y_train)\n",
    "    y_pred = clf.predict(X_test)\n",
    "    \n",
    "    precision = precision_score(y_test,y_pred, average='micro')\n",
    "    recall = recall_score(y_test,y_pred, average='micro')\n",
    "    accuracy = accuracy_score(y_test,y_pred)\n",
    "    f1 = f1_score(y_test,y_pred, average='macro')\n",
    "\n",
    "    print(f\"Accuracy: {accuracy}\")\n",
    "    print(f\"Recall: {recall}\")\n",
    "    print(f\"Precision: {precision}\")\n",
    "    print(f\"F1-score: {f1}\")\n",
    "    \n",
    "    cm = confusion_matrix(y_test, y_pred)\n",
    "    df_cm = pd.DataFrame(cm, range(cm.shape[0]), range(cm.shape[1]))\n",
    "    sns.set(font_scale=1) # for label size\n",
    "    sns.heatmap(df_cm, annot=True, annot_kws={\"size\": 16}) # font size\n",
    "    plt.show()"
   ]
  },
  {
   "cell_type": "code",
   "execution_count": 30,
   "metadata": {},
   "outputs": [],
   "source": [
    "# Saving the model (to be used in API)\n",
    "filename = 'model/finalized_model.sav'\n",
    "pickle.dump(clf, open(filename, 'wb'))\n",
    " "
   ]
  },
  {
   "cell_type": "code",
   "execution_count": 42,
   "metadata": {},
   "outputs": [
    {
     "data": {
      "text/plain": [
       "61"
      ]
     },
     "execution_count": 42,
     "metadata": {},
     "output_type": "execute_result"
    }
   ],
   "source": [
    "len(clf.coef_[0])"
   ]
  },
  {
   "cell_type": "code",
   "execution_count": 43,
   "metadata": {},
   "outputs": [],
   "source": [
    "features = feature_index_dict.keys()"
   ]
  },
  {
   "cell_type": "code",
   "execution_count": 55,
   "metadata": {},
   "outputs": [
    {
     "data": {
      "image/png": "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\n",
      "text/plain": [
       "<Figure size 1080x2520 with 1 Axes>"
      ]
     },
     "metadata": {},
     "output_type": "display_data"
    }
   ],
   "source": [
    "fig = plt.figure(figsize = (15, 35))\n",
    " \n",
    "# creating the bar plot\n",
    "plt.barh(list(features), clf.coef_[0], color ='maroon')\n",
    "plt.show()"
   ]
  },
  {
   "cell_type": "markdown",
   "metadata": {},
   "source": [
    "# Figure Size\n",
    "fig, ax = plt.subplots(figsize =(25, 25))\n",
    " \n",
    "\n",
    "print(type(features))\n",
    "# Horizontal Bar Plot\n",
    "ax.barh(list(features), clf.coef_[0])\n",
    " "
   ]
  },
  {
   "cell_type": "code",
   "execution_count": 59,
   "metadata": {},
   "outputs": [
    {
     "data": {
      "text/plain": [
       "<BarContainer object of 61 artists>"
      ]
     },
     "execution_count": 59,
     "metadata": {},
     "output_type": "execute_result"
    },
    {
     "data": {
      "image/png": "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\n",
      "text/plain": [
       "<Figure size 1080x2520 with 1 Axes>"
      ]
     },
     "metadata": {},
     "output_type": "display_data"
    }
   ],
   "source": [
    "fig = plt.figure(figsize = (15, 35))\n",
    "ax = fig.add_subplot(1, 1, 1)\n",
    "\n",
    "# creating the bar plot\n",
    "ax.barh(list(features), clf.coef_[0], color ='maroon')\n",
    "# \treturn fig"
   ]
  },
  {
   "cell_type": "code",
   "execution_count": null,
   "metadata": {},
   "outputs": [],
   "source": []
  }
 ],
 "metadata": {
  "kernelspec": {
   "display_name": "Python 3",
   "language": "python",
   "name": "python3"
  },
  "language_info": {
   "codemirror_mode": {
    "name": "ipython",
    "version": 3
   },
   "file_extension": ".py",
   "mimetype": "text/x-python",
   "name": "python",
   "nbconvert_exporter": "python",
   "pygments_lexer": "ipython3",
   "version": "3.7.7"
  }
 },
 "nbformat": 4,
 "nbformat_minor": 5
}
