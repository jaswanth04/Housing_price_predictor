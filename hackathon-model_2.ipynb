{
 "cells": [
  {
   "cell_type": "code",
   "execution_count": 1,
   "metadata": {},
   "outputs": [],
   "source": [
    "import pandas as pd\n",
    "import numpy as np\n",
    "import matplotlib.pyplot as plt\n",
    "\n",
    "from sklearn.preprocessing import LabelEncoder\n",
    "from sklearn.preprocessing import OneHotEncoder\n",
    "from sklearn.compose import ColumnTransformer\n",
    "\n",
    "from sklearn.model_selection import train_test_split\n",
    "from sklearn.metrics import fbeta_score, f1_score,precision_score,recall_score,accuracy_score, roc_curve, auc\n",
    "from sklearn.linear_model import LogisticRegression, LinearRegression\n",
    "\n",
    "from collections import Counter\n",
    "\n",
    "from sklearn.metrics import confusion_matrix, roc_curve\n",
    "\n",
    "import seaborn as sns\n",
    "\n",
    "import pickle"
   ]
  },
  {
   "cell_type": "code",
   "execution_count": 2,
   "metadata": {},
   "outputs": [],
   "source": [
    "col_names = [\"status\", \"duration\", \"credit_history\", \"purpose\", \"credit_amount\",\n",
    "            \"savings_account\", \"employed_since\", \"installment_rate\", \"maritial_status_sex\",\n",
    "            \"other_debtors\", \"resident_since\", \"property\", \"age\", \"other_installments\",\n",
    "            \"housing\", \"existing_credits\", \"job\", \"no_of_dependents\", \"telephone\", \"foreign_worker\", \"credit\"]"
   ]
  },
  {
   "cell_type": "code",
   "execution_count": 3,
   "metadata": {},
   "outputs": [],
   "source": [
    "df = pd.read_csv(\"data/german.data\", sep=\" \", header=None, names=col_names)"
   ]
  },
  {
   "cell_type": "code",
   "execution_count": 4,
   "metadata": {},
   "outputs": [
    {
     "data": {
      "text/html": [
       "<div>\n",
       "<style scoped>\n",
       "    .dataframe tbody tr th:only-of-type {\n",
       "        vertical-align: middle;\n",
       "    }\n",
       "\n",
       "    .dataframe tbody tr th {\n",
       "        vertical-align: top;\n",
       "    }\n",
       "\n",
       "    .dataframe thead th {\n",
       "        text-align: right;\n",
       "    }\n",
       "</style>\n",
       "<table border=\"1\" class=\"dataframe\">\n",
       "  <thead>\n",
       "    <tr style=\"text-align: right;\">\n",
       "      <th></th>\n",
       "      <th>status</th>\n",
       "      <th>duration</th>\n",
       "      <th>credit_history</th>\n",
       "      <th>purpose</th>\n",
       "      <th>credit_amount</th>\n",
       "      <th>savings_account</th>\n",
       "      <th>employed_since</th>\n",
       "      <th>installment_rate</th>\n",
       "      <th>maritial_status_sex</th>\n",
       "      <th>other_debtors</th>\n",
       "      <th>...</th>\n",
       "      <th>property</th>\n",
       "      <th>age</th>\n",
       "      <th>other_installments</th>\n",
       "      <th>housing</th>\n",
       "      <th>existing_credits</th>\n",
       "      <th>job</th>\n",
       "      <th>no_of_dependents</th>\n",
       "      <th>telephone</th>\n",
       "      <th>foreign_worker</th>\n",
       "      <th>credit</th>\n",
       "    </tr>\n",
       "  </thead>\n",
       "  <tbody>\n",
       "    <tr>\n",
       "      <th>0</th>\n",
       "      <td>A11</td>\n",
       "      <td>6</td>\n",
       "      <td>A34</td>\n",
       "      <td>A43</td>\n",
       "      <td>1169</td>\n",
       "      <td>A65</td>\n",
       "      <td>A75</td>\n",
       "      <td>4</td>\n",
       "      <td>A93</td>\n",
       "      <td>A101</td>\n",
       "      <td>...</td>\n",
       "      <td>A121</td>\n",
       "      <td>67</td>\n",
       "      <td>A143</td>\n",
       "      <td>A152</td>\n",
       "      <td>2</td>\n",
       "      <td>A173</td>\n",
       "      <td>1</td>\n",
       "      <td>A192</td>\n",
       "      <td>A201</td>\n",
       "      <td>1</td>\n",
       "    </tr>\n",
       "    <tr>\n",
       "      <th>1</th>\n",
       "      <td>A12</td>\n",
       "      <td>48</td>\n",
       "      <td>A32</td>\n",
       "      <td>A43</td>\n",
       "      <td>5951</td>\n",
       "      <td>A61</td>\n",
       "      <td>A73</td>\n",
       "      <td>2</td>\n",
       "      <td>A92</td>\n",
       "      <td>A101</td>\n",
       "      <td>...</td>\n",
       "      <td>A121</td>\n",
       "      <td>22</td>\n",
       "      <td>A143</td>\n",
       "      <td>A152</td>\n",
       "      <td>1</td>\n",
       "      <td>A173</td>\n",
       "      <td>1</td>\n",
       "      <td>A191</td>\n",
       "      <td>A201</td>\n",
       "      <td>2</td>\n",
       "    </tr>\n",
       "    <tr>\n",
       "      <th>2</th>\n",
       "      <td>A14</td>\n",
       "      <td>12</td>\n",
       "      <td>A34</td>\n",
       "      <td>A46</td>\n",
       "      <td>2096</td>\n",
       "      <td>A61</td>\n",
       "      <td>A74</td>\n",
       "      <td>2</td>\n",
       "      <td>A93</td>\n",
       "      <td>A101</td>\n",
       "      <td>...</td>\n",
       "      <td>A121</td>\n",
       "      <td>49</td>\n",
       "      <td>A143</td>\n",
       "      <td>A152</td>\n",
       "      <td>1</td>\n",
       "      <td>A172</td>\n",
       "      <td>2</td>\n",
       "      <td>A191</td>\n",
       "      <td>A201</td>\n",
       "      <td>1</td>\n",
       "    </tr>\n",
       "    <tr>\n",
       "      <th>3</th>\n",
       "      <td>A11</td>\n",
       "      <td>42</td>\n",
       "      <td>A32</td>\n",
       "      <td>A42</td>\n",
       "      <td>7882</td>\n",
       "      <td>A61</td>\n",
       "      <td>A74</td>\n",
       "      <td>2</td>\n",
       "      <td>A93</td>\n",
       "      <td>A103</td>\n",
       "      <td>...</td>\n",
       "      <td>A122</td>\n",
       "      <td>45</td>\n",
       "      <td>A143</td>\n",
       "      <td>A153</td>\n",
       "      <td>1</td>\n",
       "      <td>A173</td>\n",
       "      <td>2</td>\n",
       "      <td>A191</td>\n",
       "      <td>A201</td>\n",
       "      <td>1</td>\n",
       "    </tr>\n",
       "    <tr>\n",
       "      <th>4</th>\n",
       "      <td>A11</td>\n",
       "      <td>24</td>\n",
       "      <td>A33</td>\n",
       "      <td>A40</td>\n",
       "      <td>4870</td>\n",
       "      <td>A61</td>\n",
       "      <td>A73</td>\n",
       "      <td>3</td>\n",
       "      <td>A93</td>\n",
       "      <td>A101</td>\n",
       "      <td>...</td>\n",
       "      <td>A124</td>\n",
       "      <td>53</td>\n",
       "      <td>A143</td>\n",
       "      <td>A153</td>\n",
       "      <td>2</td>\n",
       "      <td>A173</td>\n",
       "      <td>2</td>\n",
       "      <td>A191</td>\n",
       "      <td>A201</td>\n",
       "      <td>2</td>\n",
       "    </tr>\n",
       "    <tr>\n",
       "      <th>...</th>\n",
       "      <td>...</td>\n",
       "      <td>...</td>\n",
       "      <td>...</td>\n",
       "      <td>...</td>\n",
       "      <td>...</td>\n",
       "      <td>...</td>\n",
       "      <td>...</td>\n",
       "      <td>...</td>\n",
       "      <td>...</td>\n",
       "      <td>...</td>\n",
       "      <td>...</td>\n",
       "      <td>...</td>\n",
       "      <td>...</td>\n",
       "      <td>...</td>\n",
       "      <td>...</td>\n",
       "      <td>...</td>\n",
       "      <td>...</td>\n",
       "      <td>...</td>\n",
       "      <td>...</td>\n",
       "      <td>...</td>\n",
       "      <td>...</td>\n",
       "    </tr>\n",
       "    <tr>\n",
       "      <th>995</th>\n",
       "      <td>A14</td>\n",
       "      <td>12</td>\n",
       "      <td>A32</td>\n",
       "      <td>A42</td>\n",
       "      <td>1736</td>\n",
       "      <td>A61</td>\n",
       "      <td>A74</td>\n",
       "      <td>3</td>\n",
       "      <td>A92</td>\n",
       "      <td>A101</td>\n",
       "      <td>...</td>\n",
       "      <td>A121</td>\n",
       "      <td>31</td>\n",
       "      <td>A143</td>\n",
       "      <td>A152</td>\n",
       "      <td>1</td>\n",
       "      <td>A172</td>\n",
       "      <td>1</td>\n",
       "      <td>A191</td>\n",
       "      <td>A201</td>\n",
       "      <td>1</td>\n",
       "    </tr>\n",
       "    <tr>\n",
       "      <th>996</th>\n",
       "      <td>A11</td>\n",
       "      <td>30</td>\n",
       "      <td>A32</td>\n",
       "      <td>A41</td>\n",
       "      <td>3857</td>\n",
       "      <td>A61</td>\n",
       "      <td>A73</td>\n",
       "      <td>4</td>\n",
       "      <td>A91</td>\n",
       "      <td>A101</td>\n",
       "      <td>...</td>\n",
       "      <td>A122</td>\n",
       "      <td>40</td>\n",
       "      <td>A143</td>\n",
       "      <td>A152</td>\n",
       "      <td>1</td>\n",
       "      <td>A174</td>\n",
       "      <td>1</td>\n",
       "      <td>A192</td>\n",
       "      <td>A201</td>\n",
       "      <td>1</td>\n",
       "    </tr>\n",
       "    <tr>\n",
       "      <th>997</th>\n",
       "      <td>A14</td>\n",
       "      <td>12</td>\n",
       "      <td>A32</td>\n",
       "      <td>A43</td>\n",
       "      <td>804</td>\n",
       "      <td>A61</td>\n",
       "      <td>A75</td>\n",
       "      <td>4</td>\n",
       "      <td>A93</td>\n",
       "      <td>A101</td>\n",
       "      <td>...</td>\n",
       "      <td>A123</td>\n",
       "      <td>38</td>\n",
       "      <td>A143</td>\n",
       "      <td>A152</td>\n",
       "      <td>1</td>\n",
       "      <td>A173</td>\n",
       "      <td>1</td>\n",
       "      <td>A191</td>\n",
       "      <td>A201</td>\n",
       "      <td>1</td>\n",
       "    </tr>\n",
       "    <tr>\n",
       "      <th>998</th>\n",
       "      <td>A11</td>\n",
       "      <td>45</td>\n",
       "      <td>A32</td>\n",
       "      <td>A43</td>\n",
       "      <td>1845</td>\n",
       "      <td>A61</td>\n",
       "      <td>A73</td>\n",
       "      <td>4</td>\n",
       "      <td>A93</td>\n",
       "      <td>A101</td>\n",
       "      <td>...</td>\n",
       "      <td>A124</td>\n",
       "      <td>23</td>\n",
       "      <td>A143</td>\n",
       "      <td>A153</td>\n",
       "      <td>1</td>\n",
       "      <td>A173</td>\n",
       "      <td>1</td>\n",
       "      <td>A192</td>\n",
       "      <td>A201</td>\n",
       "      <td>2</td>\n",
       "    </tr>\n",
       "    <tr>\n",
       "      <th>999</th>\n",
       "      <td>A12</td>\n",
       "      <td>45</td>\n",
       "      <td>A34</td>\n",
       "      <td>A41</td>\n",
       "      <td>4576</td>\n",
       "      <td>A62</td>\n",
       "      <td>A71</td>\n",
       "      <td>3</td>\n",
       "      <td>A93</td>\n",
       "      <td>A101</td>\n",
       "      <td>...</td>\n",
       "      <td>A123</td>\n",
       "      <td>27</td>\n",
       "      <td>A143</td>\n",
       "      <td>A152</td>\n",
       "      <td>1</td>\n",
       "      <td>A173</td>\n",
       "      <td>1</td>\n",
       "      <td>A191</td>\n",
       "      <td>A201</td>\n",
       "      <td>1</td>\n",
       "    </tr>\n",
       "  </tbody>\n",
       "</table>\n",
       "<p>1000 rows × 21 columns</p>\n",
       "</div>"
      ],
      "text/plain": [
       "    status  duration credit_history purpose  credit_amount savings_account  \\\n",
       "0      A11         6            A34     A43           1169             A65   \n",
       "1      A12        48            A32     A43           5951             A61   \n",
       "2      A14        12            A34     A46           2096             A61   \n",
       "3      A11        42            A32     A42           7882             A61   \n",
       "4      A11        24            A33     A40           4870             A61   \n",
       "..     ...       ...            ...     ...            ...             ...   \n",
       "995    A14        12            A32     A42           1736             A61   \n",
       "996    A11        30            A32     A41           3857             A61   \n",
       "997    A14        12            A32     A43            804             A61   \n",
       "998    A11        45            A32     A43           1845             A61   \n",
       "999    A12        45            A34     A41           4576             A62   \n",
       "\n",
       "    employed_since  installment_rate maritial_status_sex other_debtors  ...  \\\n",
       "0              A75                 4                 A93          A101  ...   \n",
       "1              A73                 2                 A92          A101  ...   \n",
       "2              A74                 2                 A93          A101  ...   \n",
       "3              A74                 2                 A93          A103  ...   \n",
       "4              A73                 3                 A93          A101  ...   \n",
       "..             ...               ...                 ...           ...  ...   \n",
       "995            A74                 3                 A92          A101  ...   \n",
       "996            A73                 4                 A91          A101  ...   \n",
       "997            A75                 4                 A93          A101  ...   \n",
       "998            A73                 4                 A93          A101  ...   \n",
       "999            A71                 3                 A93          A101  ...   \n",
       "\n",
       "     property age  other_installments housing existing_credits   job  \\\n",
       "0        A121  67                A143    A152                2  A173   \n",
       "1        A121  22                A143    A152                1  A173   \n",
       "2        A121  49                A143    A152                1  A172   \n",
       "3        A122  45                A143    A153                1  A173   \n",
       "4        A124  53                A143    A153                2  A173   \n",
       "..        ...  ..                 ...     ...              ...   ...   \n",
       "995      A121  31                A143    A152                1  A172   \n",
       "996      A122  40                A143    A152                1  A174   \n",
       "997      A123  38                A143    A152                1  A173   \n",
       "998      A124  23                A143    A153                1  A173   \n",
       "999      A123  27                A143    A152                1  A173   \n",
       "\n",
       "    no_of_dependents  telephone foreign_worker credit  \n",
       "0                  1       A192           A201      1  \n",
       "1                  1       A191           A201      2  \n",
       "2                  2       A191           A201      1  \n",
       "3                  2       A191           A201      1  \n",
       "4                  2       A191           A201      2  \n",
       "..               ...        ...            ...    ...  \n",
       "995                1       A191           A201      1  \n",
       "996                1       A192           A201      1  \n",
       "997                1       A191           A201      1  \n",
       "998                1       A192           A201      2  \n",
       "999                1       A191           A201      1  \n",
       "\n",
       "[1000 rows x 21 columns]"
      ]
     },
     "execution_count": 4,
     "metadata": {},
     "output_type": "execute_result"
    }
   ],
   "source": [
    "df"
   ]
  },
  {
   "cell_type": "code",
   "execution_count": 5,
   "metadata": {},
   "outputs": [
    {
     "name": "stdout",
     "output_type": "stream",
     "text": [
      "<class 'pandas.core.frame.DataFrame'>\n",
      "RangeIndex: 1000 entries, 0 to 999\n",
      "Data columns (total 21 columns):\n",
      " #   Column               Non-Null Count  Dtype \n",
      "---  ------               --------------  ----- \n",
      " 0   status               1000 non-null   object\n",
      " 1   duration             1000 non-null   int64 \n",
      " 2   credit_history       1000 non-null   object\n",
      " 3   purpose              1000 non-null   object\n",
      " 4   credit_amount        1000 non-null   int64 \n",
      " 5   savings_account      1000 non-null   object\n",
      " 6   employed_since       1000 non-null   object\n",
      " 7   installment_rate     1000 non-null   int64 \n",
      " 8   maritial_status_sex  1000 non-null   object\n",
      " 9   other_debtors        1000 non-null   object\n",
      " 10  resident_since       1000 non-null   int64 \n",
      " 11  property             1000 non-null   object\n",
      " 12  age                  1000 non-null   int64 \n",
      " 13  other_installments   1000 non-null   object\n",
      " 14  housing              1000 non-null   object\n",
      " 15  existing_credits     1000 non-null   int64 \n",
      " 16  job                  1000 non-null   object\n",
      " 17  no_of_dependents     1000 non-null   int64 \n",
      " 18  telephone            1000 non-null   object\n",
      " 19  foreign_worker       1000 non-null   object\n",
      " 20  credit               1000 non-null   int64 \n",
      "dtypes: int64(8), object(13)\n",
      "memory usage: 164.2+ KB\n"
     ]
    }
   ],
   "source": [
    "df.info()"
   ]
  },
  {
   "cell_type": "code",
   "execution_count": 29,
   "metadata": {},
   "outputs": [],
   "source": [
    "# split the data frame into inputs and outputs\n",
    "target_variable = \"credit\"\n",
    "X, y = df.drop(target_variable, axis=1), df[target_variable]"
   ]
  },
  {
   "cell_type": "code",
   "execution_count": 30,
   "metadata": {},
   "outputs": [
    {
     "name": "stdout",
     "output_type": "stream",
     "text": [
      "(1000, 61)\n",
      "(1000,) Counter({0: 700, 1: 300})\n"
     ]
    }
   ],
   "source": [
    "# Encoding categorical data\n",
    "categorical_cols = X.select_dtypes(include=['object', 'bool']).columns\n",
    "\n",
    "# one hot encode categorical features only\n",
    "ct = ColumnTransformer([('o', OneHotEncoder(), categorical_cols)], remainder='passthrough')\n",
    "X = ct.fit_transform(X)\n",
    "# label encode the target variable to have the classes 0 and 1\n",
    "l = LabelEncoder()\n",
    "y = l.fit_transform(y)\n",
    "\n",
    "print(X.shape)\n",
    "print(y.shape, Counter(y))"
   ]
  },
  {
   "cell_type": "code",
   "execution_count": 26,
   "metadata": {},
   "outputs": [
    {
     "name": "stdout",
     "output_type": "stream",
     "text": [
      "(1001,)\n"
     ]
    }
   ],
   "source": [
    "# x1 = [0, 1, 0, 0, 0, 1, 0, 0, 0, 0, 1, 0, 0, 0, 0, 0, 0, 0, 0, 0, 1, 0, 0, 0, 0, 0, 1, 0, 0, 0, 1, 0, 0, 0, 1, 0, 0, 1, 0, 0, 0, 1, 0, 1, 0, 0, 1, 0, 0, 0, 0, 1, 1, 0, 13, 1000, 4, 2, 24, 4, 2]\n",
    "# X = np.append(X, [x1], axis=0)\n",
    "\n",
    "# print(X.shape)\n",
    "# print(X[-1])\n",
    "\n",
    "y1 = 0\n",
    "\n",
    "y = np.append(y, y1)\n",
    "\n",
    "print(y.shape)\n"
   ]
  },
  {
   "cell_type": "code",
   "execution_count": 20,
   "metadata": {},
   "outputs": [
    {
     "data": {
      "text/plain": [
       "Index(['status', 'credit_history', 'purpose', 'savings_account',\n",
       "       'employed_since', 'maritial_status_sex', 'other_debtors', 'property',\n",
       "       'other_installments', 'housing', 'job', 'telephone', 'foreign_worker'],\n",
       "      dtype='object')"
      ]
     },
     "execution_count": 20,
     "metadata": {},
     "output_type": "execute_result"
    }
   ],
   "source": [
    "categorical_cols"
   ]
  },
  {
   "cell_type": "code",
   "execution_count": 31,
   "metadata": {},
   "outputs": [
    {
     "name": "stdout",
     "output_type": "stream",
     "text": [
      "{'A11': 0, 'A12': 1, 'A13': 2, 'A14': 3, 'A30': 4, 'A31': 5, 'A32': 6, 'A33': 7, 'A34': 8, 'A40': 9, 'A41': 10, 'A410': 11, 'A42': 12, 'A43': 13, 'A44': 14, 'A45': 15, 'A46': 16, 'A48': 17, 'A49': 18, 'A61': 19, 'A62': 20, 'A63': 21, 'A64': 22, 'A65': 23, 'A71': 24, 'A72': 25, 'A73': 26, 'A74': 27, 'A75': 28, 'A91': 29, 'A92': 30, 'A93': 31, 'A94': 32, 'A101': 33, 'A102': 34, 'A103': 35, 'A121': 36, 'A122': 37, 'A123': 38, 'A124': 39, 'A141': 40, 'A142': 41, 'A143': 42, 'A151': 43, 'A152': 44, 'A153': 45, 'A171': 46, 'A172': 47, 'A173': 48, 'A174': 49, 'A191': 50, 'A192': 51, 'A201': 52, 'A202': 53, 'duration': 54, 'credit_amount': 55, 'installment_rate': 56, 'resident_since': 57, 'age': 58, 'existing_credits': 59, 'no_of_dependents': 60}\n"
     ]
    }
   ],
   "source": [
    "feature_index_dict = {}\n",
    "for i, val in enumerate(ct.get_feature_names()):\n",
    "    if 'o__' in val:\n",
    "        feature_key = val.split('_')[3]\n",
    "    else:\n",
    "        feature_key = val\n",
    "    feature_index_dict[feature_key] = i\n",
    "    \n",
    "print(feature_index_dict)"
   ]
  },
  {
   "cell_type": "code",
   "execution_count": 32,
   "metadata": {},
   "outputs": [
    {
     "name": "stdout",
     "output_type": "stream",
     "text": [
      "status x0\n",
      "credit_history x1\n",
      "purpose x2\n",
      "savings_account x3\n",
      "employed_since x4\n",
      "maritial_status_sex x5\n",
      "other_debtors x6\n",
      "property x7\n",
      "other_installments x8\n",
      "housing x9\n",
      "job x10\n",
      "telephone x11\n",
      "foreign_worker x12\n"
     ]
    }
   ],
   "source": [
    "# Get a mapping between the categorical names and names in transformer\n",
    "a = ct.get_params()\n",
    "fn = ct.get_feature_names()\n",
    "l = filter(lambda x: 'o__' in x, fn)\n",
    "l1 = [n.split('_')[2] for n in l]\n",
    "l2 = []\n",
    "\n",
    "for n in l1:\n",
    "    if n not in l2:\n",
    "        l2.append(n)\n",
    "for x, a in zip(a['transformers'][0][2], l2):\n",
    "    print(x, a)"
   ]
  },
  {
   "cell_type": "code",
   "execution_count": 33,
   "metadata": {},
   "outputs": [],
   "source": [
    "#Splitting the data for training and testing\n",
    "X_train, X_test, y_train, y_test = train_test_split(X,y, test_size=0.2)"
   ]
  },
  {
   "cell_type": "code",
   "execution_count": 34,
   "metadata": {},
   "outputs": [
    {
     "name": "stdout",
     "output_type": "stream",
     "text": [
      "(800, 61)\n",
      "(200, 61)\n",
      "(800,)\n",
      "(200,)\n"
     ]
    }
   ],
   "source": [
    "print(X_train.shape)\n",
    "print(X_test.shape)\n",
    "print(y_train.shape)\n",
    "print(y_test.shape)"
   ]
  },
  {
   "cell_type": "code",
   "execution_count": 35,
   "metadata": {},
   "outputs": [
    {
     "data": {
      "text/plain": [
       "LogisticRegression(max_iter=10000)"
      ]
     },
     "execution_count": 35,
     "metadata": {},
     "output_type": "execute_result"
    }
   ],
   "source": [
    "# Declaring and training a classifier\n",
    "# Logistic regression classifier\n",
    "clf = LogisticRegression(penalty='l2',C=1.0, max_iter=10000)\n",
    "clf.fit(X_train, y_train)"
   ]
  },
  {
   "cell_type": "code",
   "execution_count": 36,
   "metadata": {},
   "outputs": [
    {
     "name": "stdout",
     "output_type": "stream",
     "text": [
      "Accuracy: 0.72\n",
      "Recall: 0.72\n",
      "Precision: 0.72\n",
      "F1-score: 0.6564838670101828\n"
     ]
    }
   ],
   "source": [
    "# Evaluate the model\n",
    "\n",
    "#Predicting for test data\n",
    "y_pred = clf.predict(X_test)\n",
    "\n",
    "#Calculating results for various evaluation metric\n",
    "precision = precision_score(y_test,y_pred, average='micro')\n",
    "recall = recall_score(y_test,y_pred, average='micro')\n",
    "accuracy = accuracy_score(y_test,y_pred)\n",
    "f1 = f1_score(y_test,y_pred, average='macro')\n",
    "\n",
    "print(f\"Accuracy: {accuracy}\")\n",
    "print(f\"Recall: {recall}\")\n",
    "print(f\"Precision: {precision}\")\n",
    "print(f\"F1-score: {f1}\")"
   ]
  },
  {
   "cell_type": "code",
   "execution_count": 37,
   "metadata": {},
   "outputs": [
    {
     "data": {
      "image/png": "[encoded data removed]",
      "text/plain": [
       "<Figure size 432x288 with 2 Axes>"
      ]
     },
     "metadata": {},
     "output_type": "display_data"
    }
   ],
   "source": [
    "# Confusion Matrix\n",
    "\n",
    "cm = confusion_matrix(y_test, y_pred)\n",
    "\n",
    "df_cm = pd.DataFrame(cm, range(cm.shape[0]), range(cm.shape[1]))\n",
    "sns.set(font_scale=1) # for label size\n",
    "#Display the confusion matrix in the form of heatmap\n",
    "sns.heatmap(df_cm, annot=True, annot_kws={\"size\": 16}) # font size\n",
    "#Show the plot\n",
    "plt.show()"
   ]
  },
  {
   "cell_type": "code",
   "execution_count": 38,
   "metadata": {},
   "outputs": [
    {
     "name": "stdout",
     "output_type": "stream",
     "text": [
      "TRAIN: 750 TEST: 250\n",
      "Accuracy: 0.732\n",
      "Recall: 0.732\n",
      "Precision: 0.732\n",
      "F1-score: 0.6426666666666666\n"
     ]
    },
    {
     "data": {
      "image/png": "[encoded data removed]",
      "text/plain": [
       "<Figure size 432x288 with 2 Axes>"
      ]
     },
     "metadata": {},
     "output_type": "display_data"
    },
    {
     "name": "stdout",
     "output_type": "stream",
     "text": [
      "TRAIN: 750 TEST: 250\n",
      "Accuracy: 0.776\n",
      "Recall: 0.776\n",
      "Precision: 0.776\n",
      "F1-score: 0.6818471048086537\n"
     ]
    },
    {
     "data": {
      "image/png": "[encoded data removed]",
      "text/plain": [
       "<Figure size 432x288 with 2 Axes>"
      ]
     },
     "metadata": {},
     "output_type": "display_data"
    },
    {
     "name": "stdout",
     "output_type": "stream",
     "text": [
      "TRAIN: 750 TEST: 250\n",
      "Accuracy: 0.728\n",
      "Recall: 0.728\n",
      "Precision: 0.728\n",
      "F1-score: 0.6736793611793612\n"
     ]
    },
    {
     "data": {
      "image/png": "[encoded data removed]",
      "text/plain": [
       "<Figure size 432x288 with 2 Axes>"
      ]
     },
     "metadata": {},
     "output_type": "display_data"
    },
    {
     "name": "stdout",
     "output_type": "stream",
     "text": [
      "TRAIN: 750 TEST: 250\n",
      "Accuracy: 0.776\n",
      "Recall: 0.776\n",
      "Precision: 0.776\n",
      "F1-score: 0.7246046109056574\n"
     ]
    },
    {
     "data": {
      "image/png": "[encoded data removed]",
      "text/plain": [
       "<Figure size 432x288 with 2 Axes>"
      ]
     },
     "metadata": {},
     "output_type": "display_data"
    }
   ],
   "source": [
    "# Implement K-fold validation and compare the perfromance with 80-20 random split (using sklearn methods)\n",
    "from sklearn.model_selection import KFold\n",
    "kf = KFold(n_splits=4)\n",
    "\n",
    "for train_index, test_index in kf.split(X):\n",
    "    print(\"TRAIN:\", len(train_index), \"TEST:\", len(test_index))\n",
    "    X_train, X_test = X[train_index], X[test_index]\n",
    "    y_train, y_test = y[train_index], y[test_index]\n",
    "    clf = LogisticRegression(penalty='l2',C=1.0, max_iter=10000)\n",
    "    # Train the classifier until max_iterations\n",
    "    clf.fit(X_train, y_train)\n",
    "    y_pred = clf.predict(X_test)\n",
    "    \n",
    "    precision = precision_score(y_test,y_pred, average='micro')\n",
    "    recall = recall_score(y_test,y_pred, average='micro')\n",
    "    accuracy = accuracy_score(y_test,y_pred)\n",
    "    f1 = f1_score(y_test,y_pred, average='macro')\n",
    "\n",
    "    print(f\"Accuracy: {accuracy}\")\n",
    "    print(f\"Recall: {recall}\")\n",
    "    print(f\"Precision: {precision}\")\n",
    "    print(f\"F1-score: {f1}\")\n",
    "    \n",
    "    cm = confusion_matrix(y_test, y_pred)\n",
    "    df_cm = pd.DataFrame(cm, range(cm.shape[0]), range(cm.shape[1]))\n",
    "    sns.set(font_scale=1) # for label size\n",
    "    sns.heatmap(df_cm, annot=True, annot_kws={\"size\": 16}) # font size\n",
    "    plt.show()"
   ]
  },
  {
   "cell_type": "code",
   "execution_count": 18,
   "metadata": {},
   "outputs": [],
   "source": [
    "# Saving the model (to be used in API)\n",
    "filename = 'model/finalized_model.sav'\n",
    "pickle.dump(clf, open(filename, 'wb'))\n",
    " "
   ]
  },
  {
   "cell_type": "code",
   "execution_count": 42,
   "metadata": {},
   "outputs": [
    {
     "data": {
      "text/plain": [
       "61"
      ]
     },
     "execution_count": 42,
     "metadata": {},
     "output_type": "execute_result"
    }
   ],
   "source": [
    "len(clf.coef_[0])"
   ]
  },
  {
   "cell_type": "code",
   "execution_count": 43,
   "metadata": {},
   "outputs": [],
   "source": [
    "features = feature_index_dict.keys()"
   ]
  },
  {
   "cell_type": "code",
   "execution_count": 55,
   "metadata": {},
   "outputs": [
    {
     "data": {
      "image/png": "[encoded data removed]",
      "text/plain": [
       "<Figure size 1080x2520 with 1 Axes>"
      ]
     },
     "metadata": {},
     "output_type": "display_data"
    }
   ],
   "source": [
    "fig = plt.figure(figsize = (15, 35))\n",
    " \n",
    "# creating the bar plot\n",
    "plt.barh(list(features), clf.coef_[0], color ='maroon')\n",
    "plt.show()"
   ]
  },
  {
   "cell_type": "markdown",
   "metadata": {},
   "source": [
    "# Figure Size\n",
    "fig, ax = plt.subplots(figsize =(25, 25))\n",
    " \n",
    "\n",
    "print(type(features))\n",
    "# Horizontal Bar Plot\n",
    "ax.barh(list(features), clf.coef_[0])\n",
    " "
   ]
  },
  {
   "cell_type": "code",
   "execution_count": null,
   "metadata": {},
   "outputs": [],
   "source": []
  }
 ],
 "metadata": {
  "kernelspec": {
   "display_name": "Python 3",
   "language": "python",
   "name": "python3"
  },
  "language_info": {
   "codemirror_mode": {
    "name": "ipython",
    "version": 3
   },
   "file_extension": ".py",
   "mimetype": "text/x-python",
   "name": "python",
   "nbconvert_exporter": "python",
   "pygments_lexer": "ipython3",
   "version": "3.8.3"
  }
 },
 "nbformat": 4,
 "nbformat_minor": 5
}
